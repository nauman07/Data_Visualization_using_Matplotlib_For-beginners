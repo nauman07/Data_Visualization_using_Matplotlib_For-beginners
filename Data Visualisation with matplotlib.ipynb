{
 "cells": [
  {
   "cell_type": "markdown",
   "metadata": {},
   "source": [
    "# Data Visualization"
   ]
  },
  {
   "cell_type": "markdown",
   "metadata": {},
   "source": [
    "* Data Visualization is all about viewing or visualizing data in the form of graphical plots, charts, figures, and animations.\n",
    "\n",
    "* Data Visualization is an effective way of communicating information to others.\n",
    "\n",
    "* Data Visualization is one of the steps in Data Science."
   ]
  },
  {
   "cell_type": "markdown",
   "metadata": {},
   "source": [
    "# Effective Data Visualization"
   ]
  },
  {
   "cell_type": "markdown",
   "metadata": {},
   "source": [
    "* An effective visual can be created from data when you realize that you are actually telling a story.\n",
    "\n",
    "* Steps to be followed for creating effective visualizations.\n",
    "\n",
    "* Don't bother much about the tool used for creating the visuals.\n",
    "* Define what to communicate before you look at data.\n",
    "* Identify the right chart or plot, which suits your story.\n",
    "* Create the visual and verify if it is aligned with your story."
   ]
  },
  {
   "cell_type": "markdown",
   "metadata": {},
   "source": [
    "# Data Visualization with Python"
   ]
  },
  {
   "cell_type": "markdown",
   "metadata": {},
   "source": [
    "* There are many Python libraries used for Data Visualization.\n",
    "\n",
    "* Few popular libraries are:\n",
    "\n",
    "* matplotlib: It is the most widely used Python Data Visualization library.\n",
    "\n",
    "* seaborn: It is used for generating informative statistical graphics. It is dependent on matplotlib.\n",
    "\n",
    "* bokeh: It is used for generating interactive plots, which can be accessed as JSON, HTML objects, or interactive web applications."
   ]
  },
  {
   "cell_type": "markdown",
   "metadata": {},
   "source": [
    "### matplotlib is the first data visualization library in Python and is widely used.\n",
    "\n",
    "##### In this course you will learn:\n",
    "\n",
    "* Usage of matplotlib library in creating basic plots such as Line plot, Scatter Plot, etc.\n",
    "\n",
    "* Creating multiple plots in a single figure.\n",
    "\n",
    "* Customizing plots using various styles."
   ]
  },
  {
   "cell_type": "markdown",
   "metadata": {},
   "source": [
    "## Installing Matplotlib"
   ]
  },
  {
   "cell_type": "markdown",
   "metadata": {},
   "source": [
    "* matplotlib is a third party library and is not part of standard Python library.\n",
    "\n",
    "* You can easily install it using pip utility as shown in below expression.\n",
    "\n",
    "pip install matplotlib\n",
    "* matplotlib is available directly in distributions such as Anaconda, and WinPython."
   ]
  },
  {
   "cell_type": "markdown",
   "metadata": {},
   "source": [
    "## Loading matplotlib"
   ]
  },
  {
   "cell_type": "markdown",
   "metadata": {},
   "source": [
    "* matplotlib is loaded using import as shown in below expression \n",
    "** import matplotlib\n",
    "* You can find the version of matplotlib with the below command.\n",
    "** print(matplotlib.__version__)\n",
    "* If matplotlib is already installed and you want to upgrade it, run the below command on command line prompt.\n",
    "** pip install --upgrade matplotlib"
   ]
  },
  {
   "cell_type": "markdown",
   "metadata": {},
   "source": [
    "## About Matplotlib"
   ]
  },
  {
   "cell_type": "markdown",
   "metadata": {},
   "source": [
    "* In matplotlib, everything is organized in a hierarchy.\n",
    "\n",
    "* At the top level, it consists of matplotlib.pyplot module.\n",
    "\n",
    "* pyplot is used only for few activities such as figure creation.\n",
    "\n",
    "* Through the created figures, one or more axes/subplot objects are created.\n",
    "\n",
    "* The axes objects are further used for doing many plotting actions.\n",
    "\n",
    "* In next topic, you will understand the anatomy of a figure."
   ]
  },
  {
   "cell_type": "markdown",
   "metadata": {},
   "source": [
    "# Parts of a Matplotlib Figure"
   ]
  },
  {
   "cell_type": "markdown",
   "metadata": {},
   "source": [
    "In this topic, you will get introduced to essential parts of a Matplotlib Figure.\n",
    "\n",
    "* Figure: Whole area chosen for plotting.\n",
    "* Axes: Area where data is plotted.\n",
    "* Axis: Number-line like objects, which define graph limits.\n",
    "* Artist: Every element on the figure is an artist."
   ]
  },
  {
   "cell_type": "markdown",
   "metadata": {},
   "source": [
    "# Figure"
   ]
  },
  {
   "cell_type": "markdown",
   "metadata": {},
   "source": [
    "* Figure refers to the whole area or page on which everything is drawn.\n",
    "\n",
    "* It includes Axes, Axis, and other Artist elements.\n",
    "\n",
    "### Creating a Figure\n",
    "* A figure is created using figure function of pyplot module, as shown below.-\n",
    "* import matplotlib.pyplot as plt\n",
    "* fig = plt.figure()\n",
    "* Executing the above code doesn't display any figure.-\n",
    "* You should explicitly tell pyplot to display it.\n",
    "- NOTE: The code snippets shown in this course assumes that you have imported pylot as plt."
   ]
  },
  {
   "cell_type": "code",
   "execution_count": null,
   "metadata": {},
   "outputs": [],
   "source": []
  },
  {
   "cell_type": "markdown",
   "metadata": {},
   "source": [
    "# Viewing a Figure\n",
    "* show method can be used to view the created figure as shown below."
   ]
  },
  {
   "cell_type": "code",
   "execution_count": null,
   "metadata": {},
   "outputs": [],
   "source": [
    "fig = plt.figure()\n",
    "plt.show()\n",
    "Output\n",
    "<matplotlib.figure.Figure at 0x185417f0>"
   ]
  },
  {
   "cell_type": "markdown",
   "metadata": {},
   "source": [
    "* The output simply shows the figure object.\n",
    "* You will be able to view a picture only when a figure contains at least one Axes element."
   ]
  },
  {
   "cell_type": "markdown",
   "metadata": {},
   "source": [
    "# Axes\n",
    "* An Axes is the region of the figure, available for plotting data.\n",
    "\n",
    "* An Axes object is associated with only one Figure.\n",
    "\n",
    "* A Figure can contain one or more number of Axes elements.\n",
    "\n",
    "* An Axes contains two Axis objects in case of 2D plots and three Axis objects in case of 3D plots.\n",
    "\n"
   ]
  },
  {
   "cell_type": "markdown",
   "metadata": {},
   "source": [
    "# Creating an Axes\n",
    "## Creating an Axes\n",
    "* An Axes can be added to a figure using add_subplot methods.\n",
    "### Syntax\n",
    "* add_subplot(nrows, ncols, index)\n",
    "\n",
    "* When these argument values are less than 10, they all can be clubbed and passed as a single three-digit number.\n",
    "\n",
    "* Hence, add_subplot(1, 1, 1) and add_subplot(111) are same.\n",
    "\n",
    "* The below code generates a figure with one axes, ax.\n"
   ]
  },
  {
   "cell_type": "code",
   "execution_count": null,
   "metadata": {},
   "outputs": [],
   "source": [
    "fig = plt.figure()\n",
    "ax = fig.add_subplot(111)\n",
    "plt.show()"
   ]
  },
  {
   "cell_type": "markdown",
   "metadata": {},
   "source": [
    "# Adjusting Figure Size\n",
    "# Adjusting Figure Size\n",
    "* The default width and height of a figure are 6 and 4 inches respectively.\n",
    "\n",
    "* You can change the size of a figure using figsize argument.\n",
    "\n",
    "* For example, the expression fig = plt.figure(figsize=(8,6)) generates a figure having 8 inches width and 6 inches height."
   ]
  },
  {
   "cell_type": "markdown",
   "metadata": {},
   "source": [
    "# Setting Title and Axis Labels\n",
    "## Setting Title and Axis Labels\n",
    "### set method can be used on created axes, ax, to set various parameters such as xlabel, ylabel and title."
   ]
  },
  {
   "cell_type": "code",
   "execution_count": null,
   "metadata": {},
   "outputs": [],
   "source": [
    "fig = plt.figure(figsize=(8,6))\n",
    "ax = fig.add_subplot(111)\n",
    "ax.set(title='My First Plot',\n",
    "      xlabel='X-Axis', ylabel='Y-Axis',\n",
    "      xlim=(0, 5), ylim=(0,10))\n",
    "plt.show()"
   ]
  },
  {
   "cell_type": "markdown",
   "metadata": {},
   "source": [
    "# Setting Title and Axis Labels\n",
    "## Setting Title and Axis Labels\n",
    "### Setting an attribute can also be done with functions of the form set_<parameter_name>, as shown in below code.\n"
   ]
  },
  {
   "cell_type": "code",
   "execution_count": null,
   "metadata": {},
   "outputs": [],
   "source": [
    "fig = plt.figure(figsize=(8,6))\n",
    "ax = fig.add_subplot(111)\n",
    "ax.set_title(\"My First Plot\")\n",
    "ax.set_xlabel(\"X-Axis\"); ax.set_ylabel('Y-Axis')\n",
    "ax.set_xlim([0,5]); ax.set_ylim([0,10])\n",
    "plt.show()"
   ]
  },
  {
   "cell_type": "markdown",
   "metadata": {},
   "source": [
    "# Plotting Data\n",
    "## Plotting Data\n",
    "* plot is one of the functions used for plotting data points.\n",
    "\n",
    "* plot function is called on the created axes object, ax, as shown in below code snippet.\n"
   ]
  },
  {
   "cell_type": "code",
   "execution_count": null,
   "metadata": {},
   "outputs": [],
   "source": [
    "fig = plt.figure(figsize=(8,6))\n",
    "ax = fig.add_subplot(111)\n",
    "ax.set(title='My First Plot',\n",
    "      xlabel='X-Axis', ylabel='Y-Axis',\n",
    "      xlim=(0, 5), ylim=(0,10))\n",
    "x = [1, 2, 3, 4]; y = [2, 4, 6, 8]\n",
    "plt.plot(x, y)\n",
    "plt.show()"
   ]
  },
  {
   "cell_type": "markdown",
   "metadata": {},
   "source": [
    "# Plotting Data\n",
    "## Plotting Data\n",
    "* Plotting data or setting attributes can also be done by calling functions like plot, and title directly on plt.\n",
    "\n",
    "* This would plot the data on axes, which is active currently.\n",
    "\n",
    "* However, Explicit is better than implicit. Hence prefer former style of plotting."
   ]
  },
  {
   "cell_type": "code",
   "execution_count": null,
   "metadata": {},
   "outputs": [],
   "source": [
    "\n",
    "fig = plt.figure(figsize=(8,6))\n",
    "\n",
    "x = [1, 2, 3, 4]; y = [2, 4, 6, 8]\n",
    "plt.plot(x, y)\n",
    "plt.title('My First Plot')\n",
    "plt.xlabel('X-Axis'); plt.ylabel('Y-Axis')\n",
    "plt.xlim(0,5); plt.ylim(0,10)\n",
    "plt.plot(x, y)\n",
    "plt.show()"
   ]
  },
  {
   "cell_type": "markdown",
   "metadata": {},
   "source": [
    "# Adding a Legend\n",
    "## Adding a Legend\n",
    "* legend function is called on axes object ax to produce a legend.\n",
    "\n",
    "* The legend uses the label, provided to a line drawn using plot as shown in below code.\n"
   ]
  },
  {
   "cell_type": "code",
   "execution_count": null,
   "metadata": {},
   "outputs": [],
   "source": [
    "fig = plt.figure(figsize=(8,6))\n",
    "ax = fig.add_subplot(111)\n",
    "ax.set(title='My First Plot',\n",
    "      xlabel='X-Axis', ylabel='Y-Axis',\n",
    "      xlim=(0, 5), ylim=(0,10))\n",
    "x = [1, 2, 3, 4]; y = [2, 4, 6, 8]\n",
    "plt.plot(x, y, label='linear-growth')\n",
    "plt.legend()\n",
    "plt.show()"
   ]
  },
  {
   "cell_type": "code",
   "execution_count": 1,
   "metadata": {},
   "outputs": [
    {
     "data": {
      "text/plain": [
       "<Figure size 640x480 with 1 Axes>"
      ]
     },
     "metadata": {},
     "output_type": "display_data"
    }
   ],
   "source": [
    "import matplotlib.pyplot as plt\n",
    "fig = plt.figure()\n",
    "ax = fig.add_subplot(111)\n",
    "plt.plot([10, 12, 14, 16])\n",
    "plt.show()"
   ]
  },
  {
   "cell_type": "code",
   "execution_count": null,
   "metadata": {},
   "outputs": [],
   "source": [
    "import matplotlib\n",
    "matplotlib.use('Agg')\n",
    "import matplotlib.pyplot as plt\n",
    "import numpy as np\n",
    "import matplotlib.gridspec as gridspec\n",
    "#Write your code here\n",
    "def test_my_first_plot():\n",
    "    fig = plt.figure(figsize=(8,6))\n",
    "    ax = fig.add_subplot(111)\n",
    "    t = [5, 10, 15, 20, 25]\n",
    "    d = [25, 50, 75, 100, 125]\n",
    "    ax.set(title='Time vs Distance Covered',\n",
    "          xlabel='time (seconds)', ylabel='distance (meters)',\n",
    "          xlim=(0, 30), ylim=(0,130))\n",
    "    plt.plot(t, d, label='d = 5t')\n",
    "    plt.legend()\n",
    "    plt.savefig(\"scatter.png\")\n",
    "test_my_first_plot()\n",
    "\n"
   ]
  },
  {
   "cell_type": "markdown",
   "metadata": {},
   "source": [
    "# Types of Plots\n",
    "### Data can be presented in a different number of plots.\n",
    "\n",
    "### In this topic, you will learn how to draw below-mentioned plots using matplotlib.\n",
    "\n",
    "* Line plot\n",
    "* Scatter plot\n",
    "* Bar plot\n",
    "* Pie plot\n",
    "* Histogram\n",
    "* Box plot"
   ]
  },
  {
   "cell_type": "markdown",
   "metadata": {},
   "source": [
    "# Line Plot\n",
    "*  Line Plot is used to visualize a trend in data.\n",
    "\n",
    "* Line Plot is also used to compare two variables.\n",
    "\n",
    "* Line Plots are simple and effective in communicating.\n",
    "\n",
    "* plot function is used for drawing Line plots.\n",
    "\n",
    "## Syntax\n",
    "plot(x, y)\n",
    "#### 'x' , 'y' : Data values representing two variables."
   ]
  },
  {
   "cell_type": "markdown",
   "metadata": {},
   "source": [
    "# Line Plot Example\n",
    "* The above example plots average day temperature of Jan 2018 month.\n",
    "* Temperature is collected on every Monday and Friday of a week. It shows an increasing trend in temperature."
   ]
  },
  {
   "cell_type": "code",
   "execution_count": null,
   "metadata": {},
   "outputs": [],
   "source": [
    "fig = plt.figure(figsize=(8,6))\n",
    "ax = fig.add_subplot(111)\n",
    "ax.set(title='Avg. Daily Temperature in Jan 2018',\n",
    "      xlabel='Day', ylabel='Temperature (in deg)',\n",
    "      xlim=(0, 30), ylim=(25, 35))\n",
    "days = [1, 5, 8, 12, 15, 19, 22, 26, 29]\n",
    "temp = [29.3, 30.1, 30.4, 31.5, 32.3, 32.6, 31.8, 32.4, 32.7]\n",
    "ax.plot(days, temp)\n",
    "plt.show()"
   ]
  },
  {
   "cell_type": "markdown",
   "metadata": {},
   "source": [
    "# Common Parameters of 'plot' Function\n",
    "* color: Sets the color of the line.\n",
    "\n",
    "* linestyle: Sets the line style, e.g., solid, dashed, etc.\n",
    "\n",
    "* linewidth: Sets the thickness of a line.\n",
    "\n",
    "* marker: Chooses a marker for data points, e.g., circle, triangle, etc.\n",
    "\n",
    "* markersize: Sets the size of the chosen marker.\n",
    "\n",
    "* label: Names the line, which will come in legend."
   ]
  },
  {
   "cell_type": "markdown",
   "metadata": {},
   "source": [
    "# Setting 'plot' Parameters\n",
    "* For customizing line, required parameters need to be passed as arguments to plot function.\n",
    "* A green dashed line, having width 3 can be generated by using the following expression."
   ]
  },
  {
   "cell_type": "code",
   "execution_count": null,
   "metadata": {},
   "outputs": [],
   "source": [
    "ax.plot(days, temp, color='green', linestyle='--', linewidth=3)"
   ]
  },
  {
   "cell_type": "markdown",
   "metadata": {},
   "source": [
    "# Marking Data Points\n",
    "* Data points are made visible using marker argument.\n",
    "\n",
    "* The below-shown expression plots a green colored line with data points marked in circles."
   ]
  },
  {
   "cell_type": "code",
   "execution_count": null,
   "metadata": {},
   "outputs": [],
   "source": [
    "ax.plot(days, temp, color='green', marker='o')"
   ]
  },
  {
   "cell_type": "markdown",
   "metadata": {},
   "source": [
    "# Plotting Multiple Lines\n",
    "* Using plot function multiple times is one of the ways to draw multiple lines.\n",
    "\n",
    "* Two lines representing temperatures of two different locations are plotted using below code."
   ]
  },
  {
   "cell_type": "code",
   "execution_count": null,
   "metadata": {},
   "outputs": [],
   "source": [
    "fig = plt.figure(figsize=(8,6))\n",
    "ax = fig.add_subplot(111)\n",
    "ax.set(title='Avg. Daily Temperature of Jan 2018',\n",
    "      xlabel='Day', ylabel='Temperature (in deg)',\n",
    "      xlim=(0, 30), ylim=(25, 35))\n",
    "days = [1, 5, 8, 12, 15, 19, 22, 26, 29]\n",
    "location1_temp = [29.3, 30.1, 30.4, 31.5, 32.3, 32.6, 31.8, 32.4, 32.7]\n",
    "location2_temp = [26.4, 26.8, 26.1, 26.4, 27.5, 27.3, 26.9, 26.8, 27.0]\n",
    "ax.plot(days, location1_temp, color='green', marker='o', linewidth=3)\n",
    "ax.plot(days, location2_temp, color='red', marker='o', linewidth=3)\n",
    "plt.show()"
   ]
  },
  {
   "cell_type": "markdown",
   "metadata": {},
   "source": [
    "# Scatter Plot\n",
    "* Scatter plot is very similar to Line Plot.\n",
    "\n",
    "* Scatter Plot is used for showing how one variable is related with another.\n",
    "\n",
    "* Scatter Plot consists of data points. If the spread of data points is linear, then two variables are highly correlated.\n",
    "\n",
    "* scatter function is used for drawing scatter plots.\n",
    "\n",
    "# Syntax"
   ]
  },
  {
   "cell_type": "code",
   "execution_count": null,
   "metadata": {},
   "outputs": [],
   "source": [
    "scatter(x, y)\n",
    "# 'x', 'y' : Data values representing two variables."
   ]
  },
  {
   "cell_type": "markdown",
   "metadata": {},
   "source": [
    "# Scatter Plot with Scatter Function\n",
    "* scatter plot only marks the data points with the chosen marker.\n",
    "\n",
    "* The below example displays the average temperature of a day, corresponding to every Monday and Friday of Jan 2018."
   ]
  },
  {
   "cell_type": "code",
   "execution_count": null,
   "metadata": {},
   "outputs": [],
   "source": [
    "\n",
    "fig = plt.figure(figsize=(8,6))\n",
    "ax = fig.add_subplot(111)\n",
    "ax.set(title='Avg. Daily Temperature of Jan 2018',\n",
    "      xlabel='Day', ylabel='Temperature (in deg)',\n",
    "      xlim=(0, 30), ylim=(25, 35))\n",
    "days = [1, 5, 8, 12, 15, 19, 22, 26, 29]\n",
    "temp = [29.3, 30.1, 30.4, 31.5, 32.3, 32.6, 31.8, 32.4, 32.7]\n",
    "ax.scatter(days, temp)\n",
    "plt.show()"
   ]
  },
  {
   "cell_type": "markdown",
   "metadata": {},
   "source": [
    "# Common Parameters of 'scatter'\n",
    "* c: Sets color of markers.\n",
    "\n",
    "* s: Sets size of markers.\n",
    "\n",
    "* marker: Selects a marker. e.g: circle, triangle, etc\n",
    "\n",
    "* edgecolor: Sets the color of lines on edges of markers."
   ]
  },
  {
   "cell_type": "markdown",
   "metadata": {},
   "source": [
    "# Setting 'scatter' Parameters\n",
    "## Parameters c and s can take a list of values.\n",
    "* If the number of values is less than the number of data points considered, then the list is repeated.\n",
    "* The below example plots green colored circles of size 60, with black edges."
   ]
  },
  {
   "cell_type": "code",
   "execution_count": null,
   "metadata": {},
   "outputs": [],
   "source": [
    "ax.scatter(days, temp, marker='o', c=['green'], s=[60], edgecolor='black')"
   ]
  },
  {
   "cell_type": "markdown",
   "metadata": {},
   "source": [
    "# Scatter Plot Using 'plot'\n",
    "* plot function can also create a scatter plot when linestyle is set to none, and a marker is chosen, as shown in below code."
   ]
  },
  {
   "cell_type": "code",
   "execution_count": null,
   "metadata": {},
   "outputs": [],
   "source": [
    "fig = plt.figure(figsize=(8,6))\n",
    "ax = fig.add_subplot(111)\n",
    "ax.set(title='Avg. Daily Temperature of Jan 2018',\n",
    "      xlabel='Day', ylabel='Temperature (in deg)',\n",
    "      xlim=(0, 30), ylim=(25, 35))\n",
    "days = [1, 5, 8, 12, 15, 19, 22, 26, 29]\n",
    "temp = [29.3, 30.1, 30.4, 31.5, 32.3, 32.6, 31.8, 32.4, 32.7]\n",
    "ax.plot(days, temp, marker='o', linestyle='none')\n",
    "plt.show()"
   ]
  },
  {
   "cell_type": "markdown",
   "metadata": {},
   "source": [
    "# Handson"
   ]
  },
  {
   "cell_type": "code",
   "execution_count": null,
   "metadata": {},
   "outputs": [],
   "source": [
    "import matplotlib\n",
    "matplotlib.use('Agg')\n",
    "import matplotlib.pyplot as plt\n",
    "import numpy as np\n",
    "import matplotlib.gridspec as gridspec\n",
    "from matplotlib.testing.decorators import image_comparison\n",
    "#Write your code here\n",
    "def test_sine_wave_plot():\n",
    "    fig = plt.figure(figsize=(12,3))\n",
    "    ax = fig.add_subplot(111)\n",
    "    t = np.linspace(0.0,2.0,200)\n",
    "    v = np.sin(2.5*np.pi*t)\n",
    "    ax.set(title='Sine Wave', xlabel='Time (seconds)', ylabel='Voltage (mv)', xlim = (0,2), ylim=(-1,1))\n",
    "    plt.xticks([0, 0.2, 0.4, 0.6, 0.8, 1.0, 1.2, 1.4, 1.6, 1.8, 2.0])\n",
    "    plt.yticks([-1, 0, 1])\n",
    "    plt.plot(t, v, label='sint(t)',color = 'red')\n",
    "    plt.legend()\n",
    "    ax.grid(color='black', linestyle='--',alpha=0.5)\n",
    "    plt.grid(True)\n",
    "    plt.savefig(\"sinewave.png\")\n",
    "test_sine_wave_plot()\n",
    "def test_multi_curve_plot():\n",
    "    fig = plt.figure(figsize=(12,3))\n",
    "    ax = fig.add_subplot(111)\n",
    "    x = np.linspace(0.0,5.0,20)\n",
    "    y1 = x\n",
    "    y2 = x**2\n",
    "    y3 = x**3\n",
    "\n",
    "    ax.set(title='Linear, Quadratic, & Cubic Equations',\n",
    "          xlabel='X', ylabel='f(x)')\n",
    "    ax.plot(x, y1, label='y=x',marker = 'o',color = 'red')\n",
    "    ax.plot(x, y2, label='y = x**2',marker = \"s\",color = 'green')\n",
    "    ax.plot(x, y3, label='y == x**3',marker = \"v\",color = 'blue')\n",
    "    plt.legend()\n",
    "    plt.savefig(\"multicurve.png\")\n",
    "test_multi_curve_plot()\n",
    "def test_scatter_plot():\n",
    "    fig = plt.figure(figsize=(12,3))\n",
    "    ax = fig.add_subplot(111)\n",
    "    s = [50, 60, 55, 50, 70, 65, 75, 65, 80, 90, 93, 95]\n",
    "    months = [1,2,3,4,5,6,7,8,9,10,11,12]\n",
    "    ax.set(title=\"Cars Sold by Company 'X' in 2017\",\n",
    "          xlabel='Months', ylabel='No. of Cars Sold',xlim=(0, 13), ylim=(20,100))\n",
    "    ax.scatter(months, s,marker = 'o',color = 'red')\n",
    "    plt.xticks([1, 3, 5, 7, 9,11])\n",
    "    ax.set_xticklabels(['Jan', 'Mar', 'May', 'Jul', 'Sep','Nov'])\n",
    "    plt.savefig(\"scatter.png\")\n",
    "test_scatter_plot()\n",
    "    "
   ]
  },
  {
   "cell_type": "markdown",
   "metadata": {},
   "source": [
    "# Bar Plot\n",
    "### Bar Plot is commonly used for comparing categories.\n",
    "\n",
    "* It is also used to compare categories over a short period of time.\n",
    "\n",
    "* bar and barh are used for plotting vertical and horizontal bar plots respectively.\n",
    "\n",
    "## Syntax"
   ]
  },
  {
   "cell_type": "code",
   "execution_count": 3,
   "metadata": {},
   "outputs": [
    {
     "ename": "NameError",
     "evalue": "name 'bar' is not defined",
     "output_type": "error",
     "traceback": [
      "\u001b[1;31m---------------------------------------------------------------------------\u001b[0m",
      "\u001b[1;31mNameError\u001b[0m                                 Traceback (most recent call last)",
      "\u001b[1;32m<ipython-input-3-a0fcccd52f9c>\u001b[0m in \u001b[0;36m<module>\u001b[1;34m\u001b[0m\n\u001b[1;32m----> 1\u001b[1;33m \u001b[0mbar\u001b[0m\u001b[1;33m(\u001b[0m\u001b[0mx\u001b[0m\u001b[1;33m,\u001b[0m\u001b[0mheight\u001b[0m\u001b[1;33m)\u001b[0m\u001b[1;33m\u001b[0m\u001b[1;33m\u001b[0m\u001b[0m\n\u001b[0m\u001b[0;32m      2\u001b[0m \u001b[1;31m# 'x' : x coordinates of bars.\u001b[0m\u001b[1;33m\u001b[0m\u001b[1;33m\u001b[0m\u001b[1;33m\u001b[0m\u001b[0m\n\u001b[0;32m      3\u001b[0m \u001b[1;31m# 'height' : List of heights of each bar.\u001b[0m\u001b[1;33m\u001b[0m\u001b[1;33m\u001b[0m\u001b[1;33m\u001b[0m\u001b[0m\n\u001b[0;32m      4\u001b[0m \u001b[0mbarh\u001b[0m\u001b[1;33m(\u001b[0m\u001b[0my\u001b[0m\u001b[1;33m,\u001b[0m \u001b[0mwidth\u001b[0m\u001b[1;33m)\u001b[0m\u001b[1;33m\u001b[0m\u001b[1;33m\u001b[0m\u001b[0m\n\u001b[0;32m      5\u001b[0m \u001b[1;31m# 'y' : y coordinates of bars\u001b[0m\u001b[1;33m\u001b[0m\u001b[1;33m\u001b[0m\u001b[1;33m\u001b[0m\u001b[0m\n",
      "\u001b[1;31mNameError\u001b[0m: name 'bar' is not defined"
     ]
    }
   ],
   "source": [
    "bar(x,height)\n",
    "# 'x' : x coordinates of bars.\n",
    "# 'height' : List of heights of each bar.\n",
    "barh(y, width)\n",
    "# 'y' : y coordinates of bars\n",
    "# 'width' : List of widths."
   ]
  },
  {
   "cell_type": "markdown",
   "metadata": {},
   "source": [
    "# Bar Plot Using 'bar'\n",
    "* The below example plots the average sales of a company, in first three quarters of 2017.\n",
    "* The code also sets the ticks on X-Axis and labels them."
   ]
  },
  {
   "cell_type": "code",
   "execution_count": null,
   "metadata": {},
   "outputs": [],
   "source": [
    "fig = plt.figure(figsize=(8,6))\n",
    "ax = fig.add_subplot(111)\n",
    "ax.set(title='Avg. Quarterly Sales',\n",
    "      xlabel='Quarter', ylabel='Sales (in millions)')\n",
    "quarters = [1, 2, 3]\n",
    "sales_2017 = [25782, 35783, 36133]\n",
    "ax.bar(quarters, sales_2017)\n",
    "ax.set_xticks(quarters)\n",
    "ax.set_xticklabels(['Q1-2017', 'Q2-2017', 'Q3-2017'])\n",
    "plt.show()"
   ]
  },
  {
   "cell_type": "markdown",
   "metadata": {},
   "source": [
    "# Common Parameters of 'bar'\n",
    "* color: Sets the color of bars.\n",
    "* `edgecolor: Sets the color of the border line of bars.\n",
    "* width: Sets the width of bars\n",
    "* align: Aligns the bars w.r.t x-coordinates\n",
    "* label: Sets label to a bar, appearing in legend."
   ]
  },
  {
   "cell_type": "markdown",
   "metadata": {},
   "source": [
    "# Setting Parameters of 'bar'\n",
    "* The width of bars can be adjusted with width, color with color, edge color with edgecolor parameters.\n",
    "* Red color bars with black edges can be drawn using the below expression."
   ]
  },
  {
   "cell_type": "code",
   "execution_count": null,
   "metadata": {},
   "outputs": [],
   "source": [
    "ax.bar(quarters, sales_2017, color='red', width=0.6, edgecolor='black')"
   ]
  },
  {
   "cell_type": "markdown",
   "metadata": {},
   "source": [
    "# Plotting Multiple Groups\n",
    "* Vertical bar plots are used for comparing more than one category at a time.\n",
    "* The example below compares a company sales, occurred in first three quarters of 2016 and 2017."
   ]
  },
  {
   "cell_type": "code",
   "execution_count": null,
   "metadata": {},
   "outputs": [],
   "source": [
    "fig = plt.figure(figsize=(8,6))\n",
    "ax = fig.add_subplot(111)\n",
    "ax.set(title='Avg. Quarterly Sales',\n",
    "      xlabel='Quarter', ylabel='Sales (in millions)')\n",
    "quarters = [1, 2, 3]\n",
    "x1_index = [0.8, 1.8, 2.8]; x2_index = [1.2, 2.2, 3.2]\n",
    "sales_2016 = [28831, 30762, 32178]; sales_2017 = [25782, 35783, 36133]\n",
    "ax.bar(x1_index, sales_2016, color='yellow', width=0.4, edgecolor='black', label='2016')\n",
    "ax.bar(x2_index, sales_2017, color='red', width=0.4, edgecolor='black', label='2017')\n",
    "ax.set_xticks(quarters)\n",
    "ax.set_xticklabels(['Q1', 'Q2', 'Q3'])\n",
    "ax.legend()\n",
    "plt.show()"
   ]
  },
  {
   "cell_type": "markdown",
   "metadata": {},
   "source": [
    "# Barplot Using 'barh'\n",
    "* barh draws the bars horizontally as shown in above image.\n",
    "* height parameter is used to adjust the height of each bar.\n",
    "* Horizontal bar plots are used while comparing values of one category at a time."
   ]
  },
  {
   "cell_type": "code",
   "execution_count": null,
   "metadata": {},
   "outputs": [],
   "source": [
    "fig = plt.figure(figsize=(8,6))\n",
    "ax = fig.add_subplot(111)\n",
    "ax.set(title='Avg. Quarterly Sales',\n",
    "      xlabel='Sales (in millions)', ylabel='Quarter')\n",
    "quarters = [1, 2, 3]\n",
    "sales_2017 = [25782, 35783, 36133]\n",
    "ax.barh(quarters, sales_2017, height=0.6, color='red')\n",
    "ax.set_yticks(quarters)\n",
    "ax.set_yticklabels(['Q1-2017', 'Q2-2017', 'Q3-2017'])\n",
    "plt.show()"
   ]
  },
  {
   "cell_type": "markdown",
   "metadata": {},
   "source": [
    "# Pie Plot\n",
    "* Pie plot is effective in showing the proportion of categories.\n",
    "* It is best suited used for comparing fewer categories.\n",
    "* In general, Pie Plot is used to highlight proportion of one or a group of categories.\n",
    "## Syntax"
   ]
  },
  {
   "cell_type": "code",
   "execution_count": null,
   "metadata": {},
   "outputs": [],
   "source": [
    "pie(x)\n",
    "# 'x' : sizes of portions, passed either as a fraction or a number."
   ]
  },
  {
   "cell_type": "markdown",
   "metadata": {},
   "source": [
    "# Pie Plot Using 'pie'\n",
    "* The above pie chart displays company sales, occurred in first three quarters of 2017."
   ]
  },
  {
   "cell_type": "code",
   "execution_count": null,
   "metadata": {},
   "outputs": [],
   "source": [
    "fig = plt.figure(figsize=(6,6))\n",
    "ax = fig.add_subplot(111)\n",
    "ax.set(title='Avg. Quarterly Sales')\n",
    "sales_2017 = [25782, 35783, 36133]\n",
    "ax.pie(sales_2017)\n",
    "plt.show()"
   ]
  },
  {
   "cell_type": "markdown",
   "metadata": {},
   "source": [
    "# Common Parameters of 'pie'\n",
    "* colors: Sets the colors of portions.\n",
    "* labels: Sets the labels of portions.\n",
    "* startangle: Sets the start angle at which portion drawing starts.\n",
    "* autopct: Sets the percentage display format of an area, covering portions."
   ]
  },
  {
   "cell_type": "markdown",
   "metadata": {},
   "source": [
    "# Setting Parameters of 'pie'\n",
    "* Labels and percentage of portions are drawn with below code snippet."
   ]
  },
  {
   "cell_type": "code",
   "execution_count": null,
   "metadata": {},
   "outputs": [],
   "source": [
    "fig = plt.figure(figsize=(6,6))\n",
    "ax = fig.add_subplot(111)\n",
    "ax.set(title='Avg. Quarterly Sales')\n",
    "sales_2017 = [25782, 35783, 36133]\n",
    "quarters = ['Q1-2017', 'Q2-2017', 'Q3-2017']\n",
    "ax.pie(sales_2017, labels=quarters, startangle=90, autopct='%1.1f%%')\n",
    "plt.show()"
   ]
  },
  {
   "cell_type": "markdown",
   "metadata": {},
   "source": [
    "# Histogram\n",
    "* Histogram is used to visualize the spread of data of a distribution.\n",
    "\n",
    "* hist function is used to plot a histogram.\n",
    "\n",
    "## Syntax"
   ]
  },
  {
   "cell_type": "code",
   "execution_count": null,
   "metadata": {},
   "outputs": [],
   "source": [
    "hist(x)\n",
    "# 'x' : Data values of a single variable."
   ]
  },
  {
   "cell_type": "markdown",
   "metadata": {},
   "source": [
    "# Histogram Using 'hist'\n",
    "* The below example simulates 1000 percentage values from a normal distribution with mean 60 and standard deviation 10.\n",
    "* Then the histogram of percentage values is plotted."
   ]
  },
  {
   "cell_type": "code",
   "execution_count": null,
   "metadata": {},
   "outputs": [],
   "source": [
    "import numpy as np\n",
    "np.random.seed(100)\n",
    "x = 60 + 10*np.random.randn(1000)\n",
    "fig = plt.figure(figsize=(8,6))\n",
    "ax = fig.add_subplot(111)\n",
    "ax.set(title=\"Distribution of Student's Percentage\",\n",
    "      ylabel='Count', xlabel='Percentage')\n",
    "ax.hist(x)\n",
    "plt.show()"
   ]
  },
  {
   "cell_type": "markdown",
   "metadata": {},
   "source": [
    "# Common Parameters of 'hist'\n",
    "* color: Sets the color of bars.\n",
    "* bins: Sets the number of bins to be used.\n",
    "* normed: Sets to True where bins display fraction and not the count."
   ]
  },
  {
   "cell_type": "markdown",
   "metadata": {},
   "source": [
    "# Setting Parameters of 'hist'\n",
    "* You can also create more bins and show bin count as a fraction (as specified in the following example)."
   ]
  },
  {
   "cell_type": "code",
   "execution_count": null,
   "metadata": {},
   "outputs": [],
   "source": [
    "import numpy as np\n",
    "np.random.seed(100)\n",
    "x = 60 + 10*np.random.randn(1000)\n",
    "fig = plt.figure(figsize=(8,6))\n",
    "ax = fig.add_subplot(111)\n",
    "ax.set(title=\"Distribution of Student's Percentage\",\n",
    "      ylabel='Proportion', xlabel='Percentage')\n",
    "ax.hist(x, color='blue', bins=30, density=True)\n",
    "plt.show()"
   ]
  },
  {
   "cell_type": "markdown",
   "metadata": {},
   "source": [
    "# Box Plots\n",
    "* Box plots are also used to visualize the spread of data.\n",
    "* Box plots are used to compare distributions.\n",
    "* Box plots can also be used to detect outliers.\n",
    "## Syntax"
   ]
  },
  {
   "cell_type": "code",
   "execution_count": null,
   "metadata": {},
   "outputs": [],
   "source": [
    "boxplot(x)\n",
    "# 'x' : list of values or list of list of values."
   ]
  },
  {
   "cell_type": "markdown",
   "metadata": {},
   "source": [
    "# Boxplot Using 'boxplot'\n",
    "* The above image displays box plot of Percentages obtained by 1000 Students of a class."
   ]
  },
  {
   "cell_type": "code",
   "execution_count": null,
   "metadata": {},
   "outputs": [],
   "source": [
    "import numpy as np\n",
    "np.random.seed(100)\n",
    "x = 50 + 10*np.random.randn(1000)\n",
    "fig = plt.figure(figsize=(8,6))\n",
    "ax = fig.add_subplot(111)\n",
    "ax.set(title=\"Box plot of Student's Percentage\",\n",
    "      xlabel='Class', ylabel='Percentage')\n",
    "ax.boxplot(x)\n",
    "plt.show()"
   ]
  },
  {
   "cell_type": "markdown",
   "metadata": {},
   "source": [
    "# Common Parameters of 'boxplot'\n",
    "* labels: Sets the labels for box plots.\n",
    "\n",
    "* notch: Sets to True if notches need to be created around the median.\n",
    "\n",
    "* bootstrap: Number set to indicate that notches around the median are bootstrapped.\n",
    "\n",
    "* vert: Sets to False for plotting Box plots horizontally."
   ]
  },
  {
   "cell_type": "markdown",
   "metadata": {},
   "source": [
    "# Setting Parameters of 'boxplot'\n",
    "* Box plot of Student Percentages can be redrawn by setting notch, bootstrap and labels using the below-shown expression."
   ]
  },
  {
   "cell_type": "code",
   "execution_count": null,
   "metadata": {},
   "outputs": [],
   "source": [
    "ax.boxplot(x, labels=['A'], notch=True, bootstrap=10000)"
   ]
  },
  {
   "cell_type": "markdown",
   "metadata": {},
   "source": [
    "# Plotting Multiple Boxplots\n",
    "* List of data values can be passed as an argument for plotting multiple box plots as shown in below code snippet."
   ]
  },
  {
   "cell_type": "code",
   "execution_count": null,
   "metadata": {},
   "outputs": [],
   "source": [
    "import numpy as np\n",
    "np.random.seed(100)\n",
    "x = 50 + 10*np.random.randn(1000)\n",
    "y = 70 + 25*np.random.randn(1000)\n",
    "z = 30 + 5*np.random.randn(1000)\n",
    "fig = plt.figure(figsize=(8,6))\n",
    "ax = fig.add_subplot(111)\n",
    "ax.set(title=\"Box plot of Student's Percentage\",\n",
    "      xlabel='Class', ylabel='Percentage')\n",
    "ax.boxplot([x, y, z], labels=['A', 'B', 'C'], notch=True, bootstrap=10000)\n",
    "plt.show()"
   ]
  },
  {
   "cell_type": "markdown",
   "metadata": {},
   "source": [
    "# Plotting Boxplots Horizontally\n",
    "* Box plots are plotted horizontally by setting vert to False, as shown in the below code snippet."
   ]
  },
  {
   "cell_type": "code",
   "execution_count": null,
   "metadata": {},
   "outputs": [],
   "source": [
    "ax.set(title=\"Box plot of Student's Percentage\",\n",
    "      xlabel='Percentage', ylabel='Class')\n",
    "ax.boxplot([x, y, z], labels=['A', 'B', 'C'], vert=False, notch=True, bootstrap=10000)"
   ]
  },
  {
   "cell_type": "markdown",
   "metadata": {},
   "source": [
    "# practice"
   ]
  },
  {
   "cell_type": "code",
   "execution_count": null,
   "metadata": {},
   "outputs": [],
   "source": [
    "import matplotlib\n",
    "matplotlib.use('Agg')\n",
    "import matplotlib.pyplot as plt\n",
    "import numpy as np\n",
    "import matplotlib.gridspec as gridspec\n",
    "#Write your code here\n",
    "def test_barplot_of_iris_sepal_length():\n",
    "    import matplotlib.pyplot as plt\n",
    "    import numpy as np\n",
    "    fig = plt.figure(figsize = (8,6))\n",
    "    ax = fig.add_subplot(111)\n",
    "    species = ['setosa', 'versicolor', 'viriginica']\n",
    "    index = [0.2, 1.2, 2.2]\n",
    "    sepal_len = [5.01, 5.94, 6.59]\n",
    "    ax.set(title = \"Mean Sepal Length of Iris Species\",\n",
    "    xlabel = \"Species\" ,ylabel = \"Sepal Length (cm)\",\n",
    "    xlim = (0,3),ylim = (0,7))\n",
    "    ax.bar(index,sepal_len,width = 0.5,color = \"red\",edgecolor = \"black\")\n",
    "    plt.xticks([0.45,1.45,2.45])\n",
    "    ax.set_xticklabels(['setosa', 'versicolor', 'viriginica'])\n",
    "    ax.legend()\n",
    "    plt.savefig(\"bar_iris_sepal.png\")\n",
    "test_barplot_of_iris_sepal_length()\n",
    "def test_barplot_of_iris_measurements():\n",
    "    import matplotlib.pyplot as plt\n",
    "    import numpy as np\n",
    "    fig = plt.figure(figsize = (8,6))\n",
    "    ax = fig.add_subplot(111)\n",
    "    sepal_len = [5.01, 5.94, 6.59]\n",
    "    sepal_wd = [3.42, 2.77, 2.97]\n",
    "    petal_len = [1.46, 4.26, 5.55]\n",
    "    petal_wd = [0.24, 1.33, 2.03]\n",
    "    species = ['setosa', 'versicolor', 'viriginica']\n",
    "    species_index1 = [0.7, 1.7, 2.7]\n",
    "    species_index2 = [0.9, 1.9, 2.9]\n",
    "    species_index3 = [1.1, 2.1, 3.1]\n",
    "    species_index4 = [1.3, 2.3, 3.3]\n",
    "    ax.set(title = \"Mean Measurements of Iris Species\",xlabel = \"Species\",ylabel = \"Iris Measurements (cm)\",\n",
    "           xlim = (0.5,3.7),ylim = (0,10))\n",
    "    ax.bar(species_index1, sepal_len, color='c', width=0.2, edgecolor='black', label='Sepal Length')\n",
    "    ax.bar(species_index2, sepal_wd, color='m', width=0.2, edgecolor='black', label='Sepal Width')\n",
    "    ax.bar(species_index3, petal_len, color='y', width=0.2, edgecolor='black', label='Petal Length')\n",
    "    ax.bar(species_index4, petal_wd, color='orange', width=0.2, edgecolor='black', label='Petal Width')\n",
    "    ax.set_xticks([1.1,2.1,3.1])\n",
    "    ax.set_xticklabels(['setosa', 'versicolor','viriginica'])\n",
    "    ax.legend()\n",
    "    plt.savefig(\"bar_iris_measure.png\")\n",
    "test_barplot_of_iris_measurements()\n",
    "def test_hbarplot_of_iris_petal_length():\n",
    "    import numpy as np\n",
    "    import matplotlib.pyplot as plt\n",
    "    fig = plt.figure(figsize = (12,5))\n",
    "    ax = fig.add_subplot(111)\n",
    "    species = ['setosa', 'versicolor', 'viriginica']\n",
    "    index = [0.2, 1.2, 2.2]\n",
    "    petal_len = [1.46, 4.26, 5.55]\n",
    "    ax.set(title = \"Mean Petal Length of Iris Species\",ylabel = \"Species\",xlabel = \"Petal Length (cm)\")\n",
    "    ax.barh(index, petal_len, color='c', height = 0.5, edgecolor='black', label='Sepal Length')\n",
    "    ax.set_yticks([0.45, 1.45,2.45])\n",
    "    ax.set_yticklabels(['setosa', 'versicolor','viriginica'])\n",
    "    #ax.legend()\n",
    "    plt.savefig(\"bar_iris_petal.png\")\n",
    "test_hbarplot_of_iris_petal_length()\n",
    "    "
   ]
  },
  {
   "cell_type": "code",
   "execution_count": null,
   "metadata": {},
   "outputs": [],
   "source": [
    "import matplotlib\n",
    "matplotlib.use('Agg')\n",
    "import matplotlib.pyplot as plt\n",
    "import numpy as np\n",
    "import matplotlib.gridspec as gridspec\n",
    "#Write your code here\n",
    "def test_hist_of_a_sample_normal_distribution():\n",
    "    import numpy as np\n",
    "    fig = plt.figure(figsize = (8,6))\n",
    "    ax = fig.add_subplot(111)\n",
    "    np.random.seed(100)\n",
    "    x1 = 25+3*np.random.randn(1000)\n",
    "    ax.set(title = \"Histogram of a Single Dataset\",xlabel = \"x1\",ylabel = \"Bin Count\")\n",
    "    ax.hist(x1,bins = 30)\n",
    "    plt.savefig(\"histogram_normal.png\")\n",
    "test_hist_of_a_sample_normal_distribution()\n",
    "def test_hist_of_a_sample_normal_distribution():\n",
    "    import numpy as np\n",
    "    fig = plt.figure(figsize = (8,6))\n",
    "    ax = fig.add_subplot(111)\n",
    "    np.random.seed(100)\n",
    "    x1 = 25+3.0*np.random.randn(1000)\n",
    "    x2 = 35+5.0*np.random.randn(1000)\n",
    "    x3 = 55+10.0*np.random.randn(1000)\n",
    "    x4 = 45+3.0*np.random.randn(1000)\n",
    "    ax.set(title = \"Box plot of Multiple Datasets\",xlabel = \"Dataset\",ylabel = \"Value\")\n",
    "    ax.boxplot([x1, x2, x3, x4], labels=['X1', 'X2', 'X3', 'X4'], notch=True,patch_artist = \"True\",sym=\"+\")\n",
    "    plt.savefig(\"box_distribution.png\")\n",
    "test_hist_of_a_sample_normal_distribution()\n",
    "\n",
    "    \n"
   ]
  },
  {
   "cell_type": "markdown",
   "metadata": {},
   "source": [
    "# Matplotlib Styles\n",
    "* matplotlib.pyplot comes with a lot of styles. Based on the chosen style, the display of figure changes.\n",
    "\n",
    "* You can view various styles available in pyplot by running the following commands."
   ]
  },
  {
   "cell_type": "code",
   "execution_count": null,
   "metadata": {},
   "outputs": [],
   "source": [
    "import matplotlib.pyplot as plt\n",
    "print(plt.style.available)\n",
    "Output\n",
    "['seaborn-darkgrid', 'fivethirtyeight', ...]"
   ]
  },
  {
   "cell_type": "markdown",
   "metadata": {},
   "source": [
    "# Using a Style\n",
    "* A specific style can be invoked with either of the two expressions shown below.\n",
    "* Using the later expression with a keyword, with is recommended."
   ]
  },
  {
   "cell_type": "code",
   "execution_count": null,
   "metadata": {},
   "outputs": [],
   "source": [
    "plt.style.use('ggplot')\n",
    "or\n",
    "\n",
    "plt.style.context('ggplot')"
   ]
  },
  {
   "cell_type": "markdown",
   "metadata": {},
   "source": [
    "# Using a Style\n",
    "* The above shown image uses ggplot style."
   ]
  },
  {
   "cell_type": "code",
   "execution_count": null,
   "metadata": {},
   "outputs": [],
   "source": [
    "with plt.style.context('ggplot'):\n",
    "    fig = plt.figure(figsize=(8,6))\n",
    "    ax = fig.add_subplot(111)\n",
    "    ax.set(title='Avg. Daily Temperature of Jan 2018',\n",
    "      xlabel='Day', ylabel='Temperature (in deg)',\n",
    "      xlim=(0, 30), ylim=(25, 35))\n",
    "    days = [1, 5, 8, 12, 15, 19, 22, 26, 29]\n",
    "    temp = [29.3, 30.1, 30.4, 31.5, 32.3, 32.6, 31.8, 32.4, 32.7]\n",
    "    ax.plot(days, temp, color='green', linestyle='--', linewidth=3)\n",
    "    plt.show()"
   ]
  },
  {
   "cell_type": "markdown",
   "metadata": {},
   "source": [
    "# Composing Styles\n",
    "* Multiple style sheets can be used together in matplotlib.\n",
    "\n",
    "* This provides the flexibility to compose two style sheets such as one for customizing colors and other for customizing element sizes."
   ]
  },
  {
   "cell_type": "code",
   "execution_count": null,
   "metadata": {},
   "outputs": [],
   "source": [
    "with plt.style.context(['dark_background', 'seaborn-poster']):\n",
    "   ....\n",
    "   ...."
   ]
  },
  {
   "cell_type": "markdown",
   "metadata": {},
   "source": [
    "# Creating a Custom Style\n",
    "* A style sheet is a text file having extension .mplstyle.\n",
    "* All custom style sheets are placed in a folder, stylelib, present in the config directory of matplotlib.\n",
    "\n",
    "* Use the below expression for knowing the Config folder."
   ]
  },
  {
   "cell_type": "code",
   "execution_count": null,
   "metadata": {},
   "outputs": [],
   "source": [
    "import matplotlib\n",
    "print(matplotlib.get_configdir())"
   ]
  },
  {
   "cell_type": "markdown",
   "metadata": {},
   "source": [
    "# Creating a Custom Style\n",
    "* Now, create a file mystyle.mplstyle with the below-shown contents and save it in the folder <matplotlib_configdir/stylelib/."
   ]
  },
  {
   "cell_type": "code",
   "execution_count": null,
   "metadata": {},
   "outputs": [],
   "source": [
    "axes.titlesize : 24\n",
    "axes.labelsize : 20\n",
    "lines.linewidth : 8\n",
    "lines.markersize : 10\n",
    "xtick.labelsize : 16\n",
    "ytick.labelsize : 16"
   ]
  },
  {
   "cell_type": "markdown",
   "metadata": {},
   "source": [
    "### Reload the matplotlib library with the subsequent expression."
   ]
  },
  {
   "cell_type": "code",
   "execution_count": null,
   "metadata": {},
   "outputs": [],
   "source": [
    "matplotlib.style.reload_library()"
   ]
  },
  {
   "cell_type": "markdown",
   "metadata": {},
   "source": [
    "# Using a Custom Style\n",
    "* A custom style can also be used similar to builtin styles, after reloading the style library.\n",
    "* The below code snippet used mystyle along with dark_background."
   ]
  },
  {
   "cell_type": "code",
   "execution_count": null,
   "metadata": {},
   "outputs": [],
   "source": [
    "with plt.style.context(['dark_background', 'mystyle']):\n",
    "   ....\n",
    "   ...."
   ]
  },
  {
   "cell_type": "markdown",
   "metadata": {},
   "source": [
    "# matplotlibrc file\n",
    "* matplotlib uses all the settings specified in matplotlibrc file.\n",
    "* These settings are known as rc settings or rc parameters.\n",
    "* For customization, rc settings can be altered in the file or interactively.\n",
    "* The location of active matplotlibrc file used by matplotlib can be found with below expression."
   ]
  },
  {
   "cell_type": "code",
   "execution_count": null,
   "metadata": {},
   "outputs": [],
   "source": [
    "import matplotlib\n",
    "matplotlib.matplotlib_fname()"
   ]
  },
  {
   "cell_type": "markdown",
   "metadata": {},
   "source": [
    "# Matplotlib rcParams\n",
    "* All rc settings, present in matplotlibrc file are stored in a dictionary named matplotlib.rcParams.\n",
    "\n",
    "* Any settings can be changed by editing values of this dictionary.\n",
    "\n",
    "* For example, if you want to change linewidth and color, the following expressions can be used."
   ]
  },
  {
   "cell_type": "code",
   "execution_count": null,
   "metadata": {},
   "outputs": [],
   "source": [
    "import matplotlib as mpl\n",
    "mpl.rcParams['lines.linewidth'] = 2\n",
    "mpl.rcParams['lines.color'] = 'r'"
   ]
  },
  {
   "cell_type": "markdown",
   "metadata": {},
   "source": [
    "# Practice"
   ]
  },
  {
   "cell_type": "code",
   "execution_count": null,
   "metadata": {},
   "outputs": [],
   "source": [
    "#implement different types of graphs available in python\n",
    "#bargraph\n",
    "import matplotlib.pyplot as plt \n",
    "def test_generate_plot_with_style1():\n",
    "\n",
    "    # Write your functionality below\n",
    "    fig = plt.figure(figsize=(8,6))\n",
    "    ax = fig.add_subplot(111)\n",
    "    \n",
    "    sepal_len = [5.01, 5.94, 6.59]\n",
    "    sepal_wd = [3.42, 2.77, 2.97]\n",
    "    petal_len = [1.46, 4.26, 5.55]\n",
    "    petal_wd = [0.24, 1.33, 2.03]\n",
    "    species = ['setosa', 'versicolor', 'viriginica']\n",
    "    species_index1 = [0.7, 1.7, 2.7]\n",
    "    species_index2 = [0.9, 1.9, 2.9]\n",
    "    species_index3 = [1.1, 2.1, 3.1]\n",
    "    species_index4 = [1.3, 2.3, 3.3]\n",
    "    ax.bar(species_index1, sepal_len,width=0.2,color='c',edgecolor='black',label='Sepal Length')\n",
    "    ax.bar(species_index2, sepal_wd,width=0.2,color='m',edgecolor='black',label='Sepal Width')\n",
    "    ax.bar(species_index3, petal_len,width=0.2,color='y',edgecolor='black',label='Petal Length')\n",
    "    ax.bar(species_index4, petal_wd,width=0.2,color='orange',edgecolor='black',label='Petal Width')\n",
    "    \n",
    "    species=['setosa', 'versicolor', 'viriginica']\n",
    "    index= [0.2, 1.2, 2.2]\n",
    "    sepal_len=[5.01, 5.94, 6.59]\n",
    "    ax.set(title='Mean Measurements of Iris Species',\n",
    "    xlabel='Species', ylabel='Iris Measurements (cm)',xlim=(0.5, 3.7), ylim=(0,10))\n",
    "    quarters = [1.1, 2.1, 3.1]\n",
    "    ax.bar(index, sepal_len,width=0.5,color='red',edgecolor='black')\n",
    "    \n",
    "    ax.set_xticks(quarters)\n",
    "    ax.set_xticklabels(['setosa', 'versicolor', 'viriginica'])\n",
    "    ax.legend()\n",
    "    plt.savefig(\"plotstyle1.png\")\n",
    "test_generate_plot_with_style1()\n",
    "def test_generate_plot_with_style2():\n",
    "    with plt.style.context([ 'seaborn-colorblind']):\n",
    "        fig = plt.figure(figsize=(8,6))\n",
    "        ax = fig.add_subplot(111)\n",
    "        \n",
    "        sepal_len = [5.01, 5.94, 6.59]\n",
    "        sepal_wd = [3.42, 2.77, 2.97]\n",
    "        petal_len = [1.46, 4.26, 5.55]\n",
    "        petal_wd = [0.24, 1.33, 2.03]\n",
    "        species = ['setosa', 'versicolor', 'viriginica']\n",
    "        species_index1 = [0.7, 1.7, 2.7]\n",
    "        species_index2 = [0.9, 1.9, 2.9]\n",
    "        species_index3 = [1.1, 2.1, 3.1]\n",
    "        species_index4 = [1.3, 2.3, 3.3]\n",
    "        ax.bar(species_index1, sepal_len,width=0.2,color='c',edgecolor='black',label='Sepal Length')\n",
    "        ax.bar(species_index2, sepal_wd,width=0.2,color='m',edgecolor='black',label='Sepal Width')\n",
    "        ax.bar(species_index3, petal_len,width=0.2,color='y',edgecolor='black',label='Petal Length')\n",
    "        ax.bar(species_index4, petal_wd,width=0.2,color='orange',edgecolor='black',label='Petal Width')\n",
    "        \n",
    "        species=['setosa', 'versicolor', 'viriginica']\n",
    "        index= [0.2, 1.2, 2.2]\n",
    "        sepal_len=[5.01, 5.94, 6.59]\n",
    "        ax.set(title='Mean Measurements of Iris Species',\n",
    "        xlabel='Species', ylabel='Iris Measurements (cm)',xlim=(0.5, 3.7), ylim=(0,10))\n",
    "        quarters = [1.1, 2.1, 3.1]\n",
    "        ax.bar(index, sepal_len,width=0.5,color='red',edgecolor='black')\n",
    "        \n",
    "        ax.set_xticks(quarters)\n",
    "        ax.set_xticklabels(['setosa', 'versicolor', 'viriginica'])\n",
    "        ax.legend()\n",
    "        plt.savefig(\"plotstyle2.png\")\n",
    "test_generate_plot_with_style2()\n",
    "    # Write your functionality below\n",
    "def test_generate_plot_with_style3():\n",
    "    with plt.style.context([ 'grayscale']):\n",
    "        fig = plt.figure(figsize=(8,6))\n",
    "        ax = fig.add_subplot(111)\n",
    "        \n",
    "        sepal_len = [5.01, 5.94, 6.59]\n",
    "        sepal_wd = [3.42, 2.77, 2.97]\n",
    "        petal_len = [1.46, 4.26, 5.55]\n",
    "        petal_wd = [0.24, 1.33, 2.03]\n",
    "        species = ['setosa', 'versicolor', 'viriginica']\n",
    "        species_index1 = [0.7, 1.7, 2.7]\n",
    "        species_index2 = [0.9, 1.9, 2.9]\n",
    "        species_index3 = [1.1, 2.1, 3.1]\n",
    "        species_index4 = [1.3, 2.3, 3.3]\n",
    "        ax.bar(species_index1, sepal_len,width=0.2,color='c',edgecolor='black',label='Sepal Length')\n",
    "        ax.bar(species_index2, sepal_wd,width=0.2,color='m',edgecolor='black',label='Sepal Width')\n",
    "        ax.bar(species_index3, petal_len,width=0.2,color='y',edgecolor='black',label='Petal Length')\n",
    "        ax.bar(species_index4, petal_wd,width=0.2,color='orange',edgecolor='black',label='Petal Width')\n",
    "        \n",
    "        species=['setosa', 'versicolor', 'viriginica']\n",
    "        index= [0.2, 1.2, 2.2]\n",
    "        sepal_len=[5.01, 5.94, 6.59]\n",
    "        ax.set(title='Mean Measurements of Iris Species',\n",
    "        xlabel='Species', ylabel='Iris Measurements (cm)',xlim=(0.5, 3.7), ylim=(0,10))\n",
    "        quarters = [1.1, 2.1, 3.1]\n",
    "        ax.bar(index, sepal_len,width=0.5,color='red',edgecolor='black')\n",
    "        \n",
    "        ax.set_xticks(quarters)\n",
    "        ax.set_xticklabels(['setosa', 'versicolor', 'viriginica'])\n",
    "        ax.legend()\n",
    "        plt.savefig(\"plotstyle3.png\")\n",
    "test_generate_plot_with_style3()\n",
    "\n"
   ]
  },
  {
   "cell_type": "markdown",
   "metadata": {},
   "source": [
    "# Creating Subplots\n",
    "## Till now, you have seen how to create a single plot in a figure.\n",
    "\n",
    "* In this topic, you will see how to create multiple plots in a single figure.\n",
    "\n",
    "* subplot is one of the functions used to create subplots.\n",
    "\n",
    "### Syntax"
   ]
  },
  {
   "cell_type": "code",
   "execution_count": null,
   "metadata": {},
   "outputs": [],
   "source": [
    "subplot(nrows, ncols, index)\n",
    "# 'index' is the position in a virtual grid with 'nrows' and 'ncols'\n",
    "# 'index' number varies from 1 to `nrows*ncols`.\n",
    "subplot creates the Axes object at index position and returns it."
   ]
  },
  {
   "cell_type": "markdown",
   "metadata": {},
   "source": [
    "# Example of Using 'subplot'"
   ]
  },
  {
   "cell_type": "code",
   "execution_count": null,
   "metadata": {},
   "outputs": [],
   "source": [
    "fig = plt.figure(figsize=(10,8))\n",
    "axes1 = plt.subplot(2, 2, 1, title='Plot1')\n",
    "axes2 = plt.subplot(2, 2, 2, title='Plot2')\n",
    "axes3 = plt.subplot(2, 2, 3, title='Plot3')\n",
    "axes4 = plt.subplot(2, 2, 4, title='Plot4')\n",
    "plt.show()"
   ]
  },
  {
   "cell_type": "markdown",
   "metadata": {},
   "source": [
    "* The above shown code creates a figure with four subplots, having two rows and two columns.\n",
    "* The third argument, index value varied from 1 to 4, and respective subplots are drawn in row-major order."
   ]
  },
  {
   "cell_type": "markdown",
   "metadata": {},
   "source": [
    "# Example 2 of 'subplot'\n",
    "* Now let's try to create a figure with three subplots, where the first subplot spans all columns of first row."
   ]
  },
  {
   "cell_type": "code",
   "execution_count": null,
   "metadata": {},
   "outputs": [],
   "source": [
    "fig = plt.figure(figsize=(10,8))\n",
    "axes1 = plt.subplot(2, 2, (1,2), title='Plot1')\n",
    "axes1.set_xticks([]); axes1.set_yticks([])\n",
    "axes2 = plt.subplot(2, 2, 3, title='Plot2')\n",
    "axes2.set_xticks([]); axes2.set_yticks([])\n",
    "axes3 = plt.subplot(2, 2, 4, title='Plot3')\n",
    "axes3.set_xticks([]); axes3.set_yticks([])\n",
    "plt.show()fig = plt.figure(figsize=(10,8))\n",
    "axes1 = plt.subplot(2, 2, (1,2), title='Plot1')\n",
    "axes1.set_xticks([]); axes1.set_yticks([])\n",
    "axes2 = plt.subplot(2, 2, 3, title='Plot2')\n",
    "axes2.set_xticks([]); axes2.set_yticks([])\n",
    "axes3 = plt.subplot(2, 2, 4, title='Plot3')\n",
    "axes3.set_xticks([]); axes3.set_yticks([])\n",
    "plt.show()"
   ]
  },
  {
   "cell_type": "markdown",
   "metadata": {},
   "source": [
    "* The above code also removes all ticks of x and y axes."
   ]
  },
  {
   "cell_type": "markdown",
   "metadata": {},
   "source": [
    "# Subplots Using 'GridSpec'\n",
    "* GridSpec class of matplotlib.gridspec can also be used to create Subplots.\n",
    "* Initially, a grid with given number of rows and columns is set up.\n",
    "* Later while creating a subplot, the number of rows and columns of grid, spanned by the subplot are provided as inputs to subplot function."
   ]
  },
  {
   "cell_type": "markdown",
   "metadata": {},
   "source": [
    "# Example of Using Gridspec\n",
    "* The below example recreates the previous figure using GridSpec.\n",
    "* A GridSpec object, gd is created with two rows and two columns.\n",
    "* Then a selected grid portion is passed as an argument to subplot."
   ]
  },
  {
   "cell_type": "code",
   "execution_count": null,
   "metadata": {},
   "outputs": [],
   "source": [
    "import matplotlib.gridspec as gridspec\n",
    "import matplotlib.pyplot as plt\n",
    "fig = plt.figure(figsize=(10,8))\n",
    "gd = gridspec.GridSpec(2,2)\n",
    "axes1 = plt.subplot(gd[0,:],title='Plot1')\n",
    "axes1.set_xticks([]); axes1.set_yticks([])\n",
    "axes2 = plt.subplot(gd[1,0])\n",
    "axes2.set_xticks([]); axes2.set_yticks([])\n",
    "axes3 = plt.subplot(gd[1,-1])\n",
    "axes3.set_xticks([]); axes3.set_yticks([])\n",
    "plt.show()"
   ]
  },
  {
   "cell_type": "markdown",
   "metadata": {},
   "source": [
    "# Creating a Complex Layout\n",
    "* The below example creates a complex layout.\n",
    "* It generates four plots as shown in the above figure."
   ]
  },
  {
   "cell_type": "code",
   "execution_count": null,
   "metadata": {},
   "outputs": [],
   "source": [
    "fig = plt.figure(figsize=(12,10))\n",
    "gd = gridspec.GridSpec(3,3)\n",
    "axes1 = plt.subplot(gd[0,:],title='Plot1')\n",
    "axes1.set_xticks([]); axes1.set_yticks([])\n",
    "axes2 = plt.subplot(gd[1,:-1], title='Plot2')\n",
    "axes2.set_xticks([]); axes2.set_yticks([])\n",
    "axes3 = plt.subplot(gd[1:, 2], title='Plot3')\n",
    "axes3.set_xticks([]); axes3.set_yticks([])\n",
    "axes4 = plt.subplot(gd[2, :-1], title='Plot4')\n",
    "axes4.set_xticks([]); axes4.set_yticks([])\n",
    "plt.show()"
   ]
  },
  {
   "cell_type": "markdown",
   "metadata": {},
   "source": [
    "# Practice"
   ]
  },
  {
   "cell_type": "code",
   "execution_count": null,
   "metadata": {},
   "outputs": [],
   "source": [
    "import matplotlib\n",
    "#matplotlib.use('Agg')\n",
    "import matplotlib.pyplot as plt\n",
    "import numpy as np\n",
    "import matplotlib.gridspec as gridspec\n",
    "#Write your code here\n",
    "\n",
    "def test_generate_figure1():\n",
    "  t = np.arange(0.0, 5.0, 0.01)\n",
    "  s1 = np.sin(2*np.pi*t)\n",
    "  s2 = np.sin(4*np.pi*t)\n",
    "  fig = plt.figure(figsize=(8,6))\n",
    "  axes1 = plt.subplot(211)\n",
    "  axes1.set_title('Sin(2*pi*x)')\n",
    "  axes1.plot(t,s1)\n",
    "  axes2 = plt.subplot(212,sharex=axes1,sharey=axes1)\n",
    "  axes2.set_title('Sin(4*pi*x)')\n",
    "  fig.savefig('testfigure1.png')\n",
    "  axes2.plot(t,s2)\n",
    "  plt.show()\n",
    "test_generate_figure1()\n",
    "\n",
    "def test_generate_figure2():\n",
    "  np.random.seed(1000)\n",
    "  x = np.random.rand(10)\n",
    "  y = np.random.rand(10)\n",
    "  z = np.sqrt(x**2 + y**2)\n",
    "  fig = plt.figure(figsize=(8,6))\n",
    "  axes1 = plt.subplot(221)\n",
    "  axes1.set_title('Scatter plot with Upper Traingle Markers')\n",
    "  axes1.scatter(x,y,s=[80],c=z,marker='^')\n",
    "  axes1.set(xticks=[0.0, 0.4, 0.8, 1.2],yticks=[-0.2, 0.2, 0.6, 1.0 ])\n",
    "  axes2 = plt.subplot(222)\n",
    "  axes2.set_title('Scatter plot with Plus Markers')\n",
    "  axes2.scatter(x,y,s=[80],c=z,marker='+')\n",
    "  axes2.set(xticks=[0.0, 0.4, 0.8, 1.2],yticks=[-0.2, 0.2, 0.6, 1.0 ])\n",
    "  axes3 = plt.subplot(223)\n",
    "  axes3.set_title('Scatter plot with Circle Markers')\n",
    "  axes3.scatter(x,y,s=[80],c=z,marker='o')\n",
    "  axes3.set(xticks=[0.0, 0.4, 0.8, 1.2],yticks=[-0.2, 0.2, 0.6, 1.0 ])\n",
    "  axes4 = plt.subplot(224)\n",
    "  axes4.set_title('Scatter plot with Diamond Markers')\n",
    "  axes4.scatter(x,y,s=[80],c=z,marker='d')\n",
    "  axes4.set(xticks=[0.0, 0.4, 0.8, 1.2],yticks=[-0.2, 0.2, 0.6, 1.0 ])\n",
    "  plt.tight_layout()\n",
    "  fig.savefig('testfigure2.png')\n",
    "  plt.show()\n",
    "test_generate_figure2()\n",
    "\n",
    "def test_generate_figure3():\n",
    "  x = np.arange(1,101)\n",
    "  y1 = x\n",
    "  y2 = x**2\n",
    "  y3 = x**3\n",
    "  fig = plt.figure(figsize=(8,6))\n",
    "  g = gridspec.GridSpec(2,2)\n",
    "  axes1 = plt.subplot(g[0,0])\n",
    "  axes1.set(title=\"y = x\")\n",
    "  axes1.plot(x,y1)\n",
    "  axes2 = plt.subplot(g[1,0])\n",
    "  axes2.set(title=\"y = x**2\")\n",
    "  axes2.plot(x,y2)\n",
    "  axes3 = plt.subplot(g[:,1])\n",
    "  axes3.set(title=\"y = x**3\")\n",
    "  axes3.plot(x,y3)\n",
    "  plt.tight_layout()\n",
    "  fig.savefig('testfigure3.png')\n",
    "  plt.show()\n",
    "test_generate_figure3()  "
   ]
  }
 ],
 "metadata": {
  "kernelspec": {
   "display_name": "Python 3",
   "language": "python",
   "name": "python3"
  },
  "language_info": {
   "codemirror_mode": {
    "name": "ipython",
    "version": 3
   },
   "file_extension": ".py",
   "mimetype": "text/x-python",
   "name": "python",
   "nbconvert_exporter": "python",
   "pygments_lexer": "ipython3",
   "version": "3.7.4"
  }
 },
 "nbformat": 4,
 "nbformat_minor": 4
}
